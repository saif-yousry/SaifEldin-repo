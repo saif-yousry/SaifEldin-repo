{
 "cells": [
  {
   "cell_type": "code",
   "execution_count": null,
   "id": "94be26a3",
   "metadata": {},
   "outputs": [],
   "source": [
    "import numpy as np\n",
    "import matplotlib.pyplot as plt"
   ]
  },
  {
   "cell_type": "code",
   "execution_count": 35,
   "id": "ed29e334",
   "metadata": {},
   "outputs": [],
   "source": [
    "from sklearn.model_selection import train_test_split\n",
    "from sklearn.linear_model import LogisticRegression\n",
    "from sklearn.metrics import classification_report, confusion_matrix, accuracy_score\n"
   ]
  },
  {
   "cell_type": "code",
   "execution_count": 160,
   "id": "fbcdf203",
   "metadata": {},
   "outputs": [],
   "source": [
    "from sklearn.preprocessing import OneHotEncoder"
   ]
  },
  {
   "cell_type": "code",
   "execution_count": 169,
   "id": "84e301be",
   "metadata": {},
   "outputs": [],
   "source": [
    "import seaborn as sns"
   ]
  },
  {
   "cell_type": "code",
   "execution_count": 31,
   "id": "96e49cf9",
   "metadata": {},
   "outputs": [],
   "source": [
    "import pandas as pd\n",
    "data = pd.read_csv(\"C:/Users/Cyber/Downloads/train_titanic.csv\")\n",
    "data=pd.DataFrame(data)"
   ]
  },
  {
   "cell_type": "code",
   "execution_count": 34,
   "id": "47cd3316",
   "metadata": {},
   "outputs": [
    {
     "data": {
      "application/vnd.microsoft.datawrangler.viewer.v0+json": {
       "columns": [
        {
         "name": "index",
         "rawType": "int64",
         "type": "integer"
        },
        {
         "name": "PassengerId",
         "rawType": "int64",
         "type": "integer"
        },
        {
         "name": "Survived",
         "rawType": "int64",
         "type": "integer"
        },
        {
         "name": "Pclass",
         "rawType": "int64",
         "type": "integer"
        },
        {
         "name": "Name",
         "rawType": "object",
         "type": "string"
        },
        {
         "name": "Sex",
         "rawType": "object",
         "type": "string"
        },
        {
         "name": "Age",
         "rawType": "float64",
         "type": "float"
        },
        {
         "name": "SibSp",
         "rawType": "int64",
         "type": "integer"
        },
        {
         "name": "Parch",
         "rawType": "int64",
         "type": "integer"
        },
        {
         "name": "Ticket",
         "rawType": "object",
         "type": "string"
        },
        {
         "name": "Fare",
         "rawType": "float64",
         "type": "float"
        },
        {
         "name": "Cabin",
         "rawType": "object",
         "type": "unknown"
        },
        {
         "name": "Embarked",
         "rawType": "object",
         "type": "string"
        }
       ],
       "ref": "09853675-4ac2-4fb5-988a-71b93be8caa9",
       "rows": [
        [
         "0",
         "1",
         "0",
         "3",
         "Braund, Mr. Owen Harris",
         "male",
         "22.0",
         "1",
         "0",
         "A/5 21171",
         "7.25",
         null,
         "S"
        ],
        [
         "1",
         "2",
         "1",
         "1",
         "Cumings, Mrs. John Bradley (Florence Briggs Thayer)",
         "female",
         "38.0",
         "1",
         "0",
         "PC 17599",
         "71.2833",
         "C85",
         "C"
        ],
        [
         "2",
         "3",
         "1",
         "3",
         "Heikkinen, Miss. Laina",
         "female",
         "26.0",
         "0",
         "0",
         "STON/O2. 3101282",
         "7.925",
         null,
         "S"
        ],
        [
         "3",
         "4",
         "1",
         "1",
         "Futrelle, Mrs. Jacques Heath (Lily May Peel)",
         "female",
         "35.0",
         "1",
         "0",
         "113803",
         "53.1",
         "C123",
         "S"
        ],
        [
         "4",
         "5",
         "0",
         "3",
         "Allen, Mr. William Henry",
         "male",
         "35.0",
         "0",
         "0",
         "373450",
         "8.05",
         null,
         "S"
        ],
        [
         "5",
         "6",
         "0",
         "3",
         "Moran, Mr. James",
         "male",
         null,
         "0",
         "0",
         "330877",
         "8.4583",
         null,
         "Q"
        ],
        [
         "6",
         "7",
         "0",
         "1",
         "McCarthy, Mr. Timothy J",
         "male",
         "54.0",
         "0",
         "0",
         "17463",
         "51.8625",
         "E46",
         "S"
        ],
        [
         "7",
         "8",
         "0",
         "3",
         "Palsson, Master. Gosta Leonard",
         "male",
         "2.0",
         "3",
         "1",
         "349909",
         "21.075",
         null,
         "S"
        ],
        [
         "8",
         "9",
         "1",
         "3",
         "Johnson, Mrs. Oscar W (Elisabeth Vilhelmina Berg)",
         "female",
         "27.0",
         "0",
         "2",
         "347742",
         "11.1333",
         null,
         "S"
        ],
        [
         "9",
         "10",
         "1",
         "2",
         "Nasser, Mrs. Nicholas (Adele Achem)",
         "female",
         "14.0",
         "1",
         "0",
         "237736",
         "30.0708",
         null,
         "C"
        ]
       ],
       "shape": {
        "columns": 12,
        "rows": 10
       }
      },
      "text/html": [
       "<div>\n",
       "<style scoped>\n",
       "    .dataframe tbody tr th:only-of-type {\n",
       "        vertical-align: middle;\n",
       "    }\n",
       "\n",
       "    .dataframe tbody tr th {\n",
       "        vertical-align: top;\n",
       "    }\n",
       "\n",
       "    .dataframe thead th {\n",
       "        text-align: right;\n",
       "    }\n",
       "</style>\n",
       "<table border=\"1\" class=\"dataframe\">\n",
       "  <thead>\n",
       "    <tr style=\"text-align: right;\">\n",
       "      <th></th>\n",
       "      <th>PassengerId</th>\n",
       "      <th>Survived</th>\n",
       "      <th>Pclass</th>\n",
       "      <th>Name</th>\n",
       "      <th>Sex</th>\n",
       "      <th>Age</th>\n",
       "      <th>SibSp</th>\n",
       "      <th>Parch</th>\n",
       "      <th>Ticket</th>\n",
       "      <th>Fare</th>\n",
       "      <th>Cabin</th>\n",
       "      <th>Embarked</th>\n",
       "    </tr>\n",
       "  </thead>\n",
       "  <tbody>\n",
       "    <tr>\n",
       "      <th>0</th>\n",
       "      <td>1</td>\n",
       "      <td>0</td>\n",
       "      <td>3</td>\n",
       "      <td>Braund, Mr. Owen Harris</td>\n",
       "      <td>male</td>\n",
       "      <td>22.0</td>\n",
       "      <td>1</td>\n",
       "      <td>0</td>\n",
       "      <td>A/5 21171</td>\n",
       "      <td>7.2500</td>\n",
       "      <td>NaN</td>\n",
       "      <td>S</td>\n",
       "    </tr>\n",
       "    <tr>\n",
       "      <th>1</th>\n",
       "      <td>2</td>\n",
       "      <td>1</td>\n",
       "      <td>1</td>\n",
       "      <td>Cumings, Mrs. John Bradley (Florence Briggs Th...</td>\n",
       "      <td>female</td>\n",
       "      <td>38.0</td>\n",
       "      <td>1</td>\n",
       "      <td>0</td>\n",
       "      <td>PC 17599</td>\n",
       "      <td>71.2833</td>\n",
       "      <td>C85</td>\n",
       "      <td>C</td>\n",
       "    </tr>\n",
       "    <tr>\n",
       "      <th>2</th>\n",
       "      <td>3</td>\n",
       "      <td>1</td>\n",
       "      <td>3</td>\n",
       "      <td>Heikkinen, Miss. Laina</td>\n",
       "      <td>female</td>\n",
       "      <td>26.0</td>\n",
       "      <td>0</td>\n",
       "      <td>0</td>\n",
       "      <td>STON/O2. 3101282</td>\n",
       "      <td>7.9250</td>\n",
       "      <td>NaN</td>\n",
       "      <td>S</td>\n",
       "    </tr>\n",
       "    <tr>\n",
       "      <th>3</th>\n",
       "      <td>4</td>\n",
       "      <td>1</td>\n",
       "      <td>1</td>\n",
       "      <td>Futrelle, Mrs. Jacques Heath (Lily May Peel)</td>\n",
       "      <td>female</td>\n",
       "      <td>35.0</td>\n",
       "      <td>1</td>\n",
       "      <td>0</td>\n",
       "      <td>113803</td>\n",
       "      <td>53.1000</td>\n",
       "      <td>C123</td>\n",
       "      <td>S</td>\n",
       "    </tr>\n",
       "    <tr>\n",
       "      <th>4</th>\n",
       "      <td>5</td>\n",
       "      <td>0</td>\n",
       "      <td>3</td>\n",
       "      <td>Allen, Mr. William Henry</td>\n",
       "      <td>male</td>\n",
       "      <td>35.0</td>\n",
       "      <td>0</td>\n",
       "      <td>0</td>\n",
       "      <td>373450</td>\n",
       "      <td>8.0500</td>\n",
       "      <td>NaN</td>\n",
       "      <td>S</td>\n",
       "    </tr>\n",
       "    <tr>\n",
       "      <th>5</th>\n",
       "      <td>6</td>\n",
       "      <td>0</td>\n",
       "      <td>3</td>\n",
       "      <td>Moran, Mr. James</td>\n",
       "      <td>male</td>\n",
       "      <td>NaN</td>\n",
       "      <td>0</td>\n",
       "      <td>0</td>\n",
       "      <td>330877</td>\n",
       "      <td>8.4583</td>\n",
       "      <td>NaN</td>\n",
       "      <td>Q</td>\n",
       "    </tr>\n",
       "    <tr>\n",
       "      <th>6</th>\n",
       "      <td>7</td>\n",
       "      <td>0</td>\n",
       "      <td>1</td>\n",
       "      <td>McCarthy, Mr. Timothy J</td>\n",
       "      <td>male</td>\n",
       "      <td>54.0</td>\n",
       "      <td>0</td>\n",
       "      <td>0</td>\n",
       "      <td>17463</td>\n",
       "      <td>51.8625</td>\n",
       "      <td>E46</td>\n",
       "      <td>S</td>\n",
       "    </tr>\n",
       "    <tr>\n",
       "      <th>7</th>\n",
       "      <td>8</td>\n",
       "      <td>0</td>\n",
       "      <td>3</td>\n",
       "      <td>Palsson, Master. Gosta Leonard</td>\n",
       "      <td>male</td>\n",
       "      <td>2.0</td>\n",
       "      <td>3</td>\n",
       "      <td>1</td>\n",
       "      <td>349909</td>\n",
       "      <td>21.0750</td>\n",
       "      <td>NaN</td>\n",
       "      <td>S</td>\n",
       "    </tr>\n",
       "    <tr>\n",
       "      <th>8</th>\n",
       "      <td>9</td>\n",
       "      <td>1</td>\n",
       "      <td>3</td>\n",
       "      <td>Johnson, Mrs. Oscar W (Elisabeth Vilhelmina Berg)</td>\n",
       "      <td>female</td>\n",
       "      <td>27.0</td>\n",
       "      <td>0</td>\n",
       "      <td>2</td>\n",
       "      <td>347742</td>\n",
       "      <td>11.1333</td>\n",
       "      <td>NaN</td>\n",
       "      <td>S</td>\n",
       "    </tr>\n",
       "    <tr>\n",
       "      <th>9</th>\n",
       "      <td>10</td>\n",
       "      <td>1</td>\n",
       "      <td>2</td>\n",
       "      <td>Nasser, Mrs. Nicholas (Adele Achem)</td>\n",
       "      <td>female</td>\n",
       "      <td>14.0</td>\n",
       "      <td>1</td>\n",
       "      <td>0</td>\n",
       "      <td>237736</td>\n",
       "      <td>30.0708</td>\n",
       "      <td>NaN</td>\n",
       "      <td>C</td>\n",
       "    </tr>\n",
       "  </tbody>\n",
       "</table>\n",
       "</div>"
      ],
      "text/plain": [
       "   PassengerId  Survived  Pclass  \\\n",
       "0            1         0       3   \n",
       "1            2         1       1   \n",
       "2            3         1       3   \n",
       "3            4         1       1   \n",
       "4            5         0       3   \n",
       "5            6         0       3   \n",
       "6            7         0       1   \n",
       "7            8         0       3   \n",
       "8            9         1       3   \n",
       "9           10         1       2   \n",
       "\n",
       "                                                Name     Sex   Age  SibSp  \\\n",
       "0                            Braund, Mr. Owen Harris    male  22.0      1   \n",
       "1  Cumings, Mrs. John Bradley (Florence Briggs Th...  female  38.0      1   \n",
       "2                             Heikkinen, Miss. Laina  female  26.0      0   \n",
       "3       Futrelle, Mrs. Jacques Heath (Lily May Peel)  female  35.0      1   \n",
       "4                           Allen, Mr. William Henry    male  35.0      0   \n",
       "5                                   Moran, Mr. James    male   NaN      0   \n",
       "6                            McCarthy, Mr. Timothy J    male  54.0      0   \n",
       "7                     Palsson, Master. Gosta Leonard    male   2.0      3   \n",
       "8  Johnson, Mrs. Oscar W (Elisabeth Vilhelmina Berg)  female  27.0      0   \n",
       "9                Nasser, Mrs. Nicholas (Adele Achem)  female  14.0      1   \n",
       "\n",
       "   Parch            Ticket     Fare Cabin Embarked  \n",
       "0      0         A/5 21171   7.2500   NaN        S  \n",
       "1      0          PC 17599  71.2833   C85        C  \n",
       "2      0  STON/O2. 3101282   7.9250   NaN        S  \n",
       "3      0            113803  53.1000  C123        S  \n",
       "4      0            373450   8.0500   NaN        S  \n",
       "5      0            330877   8.4583   NaN        Q  \n",
       "6      0             17463  51.8625   E46        S  \n",
       "7      1            349909  21.0750   NaN        S  \n",
       "8      2            347742  11.1333   NaN        S  \n",
       "9      0            237736  30.0708   NaN        C  "
      ]
     },
     "execution_count": 34,
     "metadata": {},
     "output_type": "execute_result"
    }
   ],
   "source": [
    "data.head(10)"
   ]
  },
  {
   "cell_type": "markdown",
   "id": "34a2d546",
   "metadata": {},
   "source": [
    "pclass\tTicket class\t1 = 1st, 2 = 2nd, 3 = 3rd\n",
    "\n",
    "sex\t    Sex\t\n",
    "Age   \tAge in years\t\n",
    "\n",
    "sibsp\t# of siblings / spouses aboard the Titanic\t\n",
    "\n",
    "parch\t# of parents / children aboard the Titanic\t\n",
    "\n",
    "ticket\tTicket number\t\n",
    "\n",
    "fare\tPassenger fare\t\n",
    "\n",
    "cabin\tCabin number\t\n",
    "\n",
    "embarked\tPort of Embarkation"
   ]
  },
  {
   "cell_type": "code",
   "execution_count": 32,
   "id": "722cc750",
   "metadata": {},
   "outputs": [
    {
     "name": "stdout",
     "output_type": "stream",
     "text": [
      "<class 'pandas.core.frame.DataFrame'>\n",
      "RangeIndex: 891 entries, 0 to 890\n",
      "Data columns (total 12 columns):\n",
      " #   Column       Non-Null Count  Dtype  \n",
      "---  ------       --------------  -----  \n",
      " 0   PassengerId  891 non-null    int64  \n",
      " 1   Survived     891 non-null    int64  \n",
      " 2   Pclass       891 non-null    int64  \n",
      " 3   Name         891 non-null    object \n",
      " 4   Sex          891 non-null    object \n",
      " 5   Age          714 non-null    float64\n",
      " 6   SibSp        891 non-null    int64  \n",
      " 7   Parch        891 non-null    int64  \n",
      " 8   Ticket       891 non-null    object \n",
      " 9   Fare         891 non-null    float64\n",
      " 10  Cabin        204 non-null    object \n",
      " 11  Embarked     889 non-null    object \n",
      "dtypes: float64(2), int64(5), object(5)\n",
      "memory usage: 83.7+ KB\n"
     ]
    }
   ],
   "source": [
    "data.info()"
   ]
  },
  {
   "cell_type": "code",
   "execution_count": 36,
   "id": "6140eff4",
   "metadata": {},
   "outputs": [
    {
     "data": {
      "application/vnd.microsoft.datawrangler.viewer.v0+json": {
       "columns": [
        {
         "name": "index",
         "rawType": "object",
         "type": "string"
        },
        {
         "name": "PassengerId",
         "rawType": "float64",
         "type": "float"
        },
        {
         "name": "Survived",
         "rawType": "float64",
         "type": "float"
        },
        {
         "name": "Pclass",
         "rawType": "float64",
         "type": "float"
        },
        {
         "name": "Age",
         "rawType": "float64",
         "type": "float"
        },
        {
         "name": "SibSp",
         "rawType": "float64",
         "type": "float"
        },
        {
         "name": "Parch",
         "rawType": "float64",
         "type": "float"
        },
        {
         "name": "Fare",
         "rawType": "float64",
         "type": "float"
        }
       ],
       "ref": "7c660e96-093a-4dab-bc57-967337891a89",
       "rows": [
        [
         "count",
         "891.0",
         "891.0",
         "891.0",
         "714.0",
         "891.0",
         "891.0",
         "891.0"
        ],
        [
         "mean",
         "446.0",
         "0.3838383838383838",
         "2.308641975308642",
         "29.69911764705882",
         "0.5230078563411896",
         "0.38159371492704824",
         "32.204207968574636"
        ],
        [
         "std",
         "257.3538420152301",
         "0.4865924542648585",
         "0.8360712409770513",
         "14.526497332334044",
         "1.1027434322934275",
         "0.8060572211299559",
         "49.693428597180905"
        ],
        [
         "min",
         "1.0",
         "0.0",
         "1.0",
         "0.42",
         "0.0",
         "0.0",
         "0.0"
        ],
        [
         "25%",
         "223.5",
         "0.0",
         "2.0",
         "20.125",
         "0.0",
         "0.0",
         "7.9104"
        ],
        [
         "50%",
         "446.0",
         "0.0",
         "3.0",
         "28.0",
         "0.0",
         "0.0",
         "14.4542"
        ],
        [
         "75%",
         "668.5",
         "1.0",
         "3.0",
         "38.0",
         "1.0",
         "0.0",
         "31.0"
        ],
        [
         "max",
         "891.0",
         "1.0",
         "3.0",
         "80.0",
         "8.0",
         "6.0",
         "512.3292"
        ]
       ],
       "shape": {
        "columns": 7,
        "rows": 8
       }
      },
      "text/html": [
       "<div>\n",
       "<style scoped>\n",
       "    .dataframe tbody tr th:only-of-type {\n",
       "        vertical-align: middle;\n",
       "    }\n",
       "\n",
       "    .dataframe tbody tr th {\n",
       "        vertical-align: top;\n",
       "    }\n",
       "\n",
       "    .dataframe thead th {\n",
       "        text-align: right;\n",
       "    }\n",
       "</style>\n",
       "<table border=\"1\" class=\"dataframe\">\n",
       "  <thead>\n",
       "    <tr style=\"text-align: right;\">\n",
       "      <th></th>\n",
       "      <th>PassengerId</th>\n",
       "      <th>Survived</th>\n",
       "      <th>Pclass</th>\n",
       "      <th>Age</th>\n",
       "      <th>SibSp</th>\n",
       "      <th>Parch</th>\n",
       "      <th>Fare</th>\n",
       "    </tr>\n",
       "  </thead>\n",
       "  <tbody>\n",
       "    <tr>\n",
       "      <th>count</th>\n",
       "      <td>891.000000</td>\n",
       "      <td>891.000000</td>\n",
       "      <td>891.000000</td>\n",
       "      <td>714.000000</td>\n",
       "      <td>891.000000</td>\n",
       "      <td>891.000000</td>\n",
       "      <td>891.000000</td>\n",
       "    </tr>\n",
       "    <tr>\n",
       "      <th>mean</th>\n",
       "      <td>446.000000</td>\n",
       "      <td>0.383838</td>\n",
       "      <td>2.308642</td>\n",
       "      <td>29.699118</td>\n",
       "      <td>0.523008</td>\n",
       "      <td>0.381594</td>\n",
       "      <td>32.204208</td>\n",
       "    </tr>\n",
       "    <tr>\n",
       "      <th>std</th>\n",
       "      <td>257.353842</td>\n",
       "      <td>0.486592</td>\n",
       "      <td>0.836071</td>\n",
       "      <td>14.526497</td>\n",
       "      <td>1.102743</td>\n",
       "      <td>0.806057</td>\n",
       "      <td>49.693429</td>\n",
       "    </tr>\n",
       "    <tr>\n",
       "      <th>min</th>\n",
       "      <td>1.000000</td>\n",
       "      <td>0.000000</td>\n",
       "      <td>1.000000</td>\n",
       "      <td>0.420000</td>\n",
       "      <td>0.000000</td>\n",
       "      <td>0.000000</td>\n",
       "      <td>0.000000</td>\n",
       "    </tr>\n",
       "    <tr>\n",
       "      <th>25%</th>\n",
       "      <td>223.500000</td>\n",
       "      <td>0.000000</td>\n",
       "      <td>2.000000</td>\n",
       "      <td>20.125000</td>\n",
       "      <td>0.000000</td>\n",
       "      <td>0.000000</td>\n",
       "      <td>7.910400</td>\n",
       "    </tr>\n",
       "    <tr>\n",
       "      <th>50%</th>\n",
       "      <td>446.000000</td>\n",
       "      <td>0.000000</td>\n",
       "      <td>3.000000</td>\n",
       "      <td>28.000000</td>\n",
       "      <td>0.000000</td>\n",
       "      <td>0.000000</td>\n",
       "      <td>14.454200</td>\n",
       "    </tr>\n",
       "    <tr>\n",
       "      <th>75%</th>\n",
       "      <td>668.500000</td>\n",
       "      <td>1.000000</td>\n",
       "      <td>3.000000</td>\n",
       "      <td>38.000000</td>\n",
       "      <td>1.000000</td>\n",
       "      <td>0.000000</td>\n",
       "      <td>31.000000</td>\n",
       "    </tr>\n",
       "    <tr>\n",
       "      <th>max</th>\n",
       "      <td>891.000000</td>\n",
       "      <td>1.000000</td>\n",
       "      <td>3.000000</td>\n",
       "      <td>80.000000</td>\n",
       "      <td>8.000000</td>\n",
       "      <td>6.000000</td>\n",
       "      <td>512.329200</td>\n",
       "    </tr>\n",
       "  </tbody>\n",
       "</table>\n",
       "</div>"
      ],
      "text/plain": [
       "       PassengerId    Survived      Pclass         Age       SibSp  \\\n",
       "count   891.000000  891.000000  891.000000  714.000000  891.000000   \n",
       "mean    446.000000    0.383838    2.308642   29.699118    0.523008   \n",
       "std     257.353842    0.486592    0.836071   14.526497    1.102743   \n",
       "min       1.000000    0.000000    1.000000    0.420000    0.000000   \n",
       "25%     223.500000    0.000000    2.000000   20.125000    0.000000   \n",
       "50%     446.000000    0.000000    3.000000   28.000000    0.000000   \n",
       "75%     668.500000    1.000000    3.000000   38.000000    1.000000   \n",
       "max     891.000000    1.000000    3.000000   80.000000    8.000000   \n",
       "\n",
       "            Parch        Fare  \n",
       "count  891.000000  891.000000  \n",
       "mean     0.381594   32.204208  \n",
       "std      0.806057   49.693429  \n",
       "min      0.000000    0.000000  \n",
       "25%      0.000000    7.910400  \n",
       "50%      0.000000   14.454200  \n",
       "75%      0.000000   31.000000  \n",
       "max      6.000000  512.329200  "
      ]
     },
     "execution_count": 36,
     "metadata": {},
     "output_type": "execute_result"
    }
   ],
   "source": [
    "data.describe()"
   ]
  },
  {
   "cell_type": "code",
   "execution_count": null,
   "id": "34815423",
   "metadata": {},
   "outputs": [],
   "source": []
  },
  {
   "cell_type": "code",
   "execution_count": 54,
   "id": "3db1a86d",
   "metadata": {},
   "outputs": [
    {
     "name": "stdout",
     "output_type": "stream",
     "text": [
      "        Sex  Survived\n",
      "Sex                  \n",
      "female  314       233\n",
      "male    577       109\n"
     ]
    }
   ],
   "source": [
    "survived_gender = data.groupby(['Sex']).agg({'Sex':'count', 'Survived':'sum'})\n",
    "print(survived_gender)"
   ]
  },
  {
   "cell_type": "code",
   "execution_count": null,
   "id": "8a73bcd5",
   "metadata": {},
   "outputs": [
    {
     "data": {
      "text/plain": [
       "<BarContainer object of 2 artists>"
      ]
     },
     "execution_count": 58,
     "metadata": {},
     "output_type": "execute_result"
    },
    {
     "data": {
      "image/png": "[encoded data removed]",
      "text/plain": [
       "<Figure size 640x480 with 1 Axes>"
      ]
     },
     "metadata": {},
     "output_type": "display_data"
    }
   ],
   "source": [
    "plt.bar(x=survived_gender.index,height=survived_gender['Sex'].values)"
   ]
  },
  {
   "cell_type": "code",
   "execution_count": 75,
   "id": "48792731",
   "metadata": {},
   "outputs": [
    {
     "data": {
      "image/png": "[encoded data removed]",
      "text/plain": [
       "<Figure size 640x480 with 1 Axes>"
      ]
     },
     "metadata": {},
     "output_type": "display_data"
    }
   ],
   "source": [
    "plt.pie(labels=survived_gender.index,x=survived_gender['Sex'],autopct='%1.1f%%',colors=['pink','blue'])\n",
    "plt.title('Gender')\n",
    "plt.show()\n"
   ]
  },
  {
   "cell_type": "code",
   "execution_count": 74,
   "id": "1614aedb",
   "metadata": {},
   "outputs": [
    {
     "data": {
      "image/png": "[encoded data removed]",
      "text/plain": [
       "<Figure size 640x480 with 1 Axes>"
      ]
     },
     "metadata": {},
     "output_type": "display_data"
    }
   ],
   "source": [
    "plt.pie(labels=survived_gender.index,x=survived_gender['Survived'],autopct='%1.1f%%',colors=['pink','blue'])\n",
    "plt.title('Survived percentage by gender')\n",
    "plt.show()\n"
   ]
  },
  {
   "cell_type": "code",
   "execution_count": 97,
   "id": "ff6aa603",
   "metadata": {},
   "outputs": [],
   "source": [
    "Pclass = data.groupby(['Pclass']).agg({'Pclass':'count', 'Survived':'sum'})\n"
   ]
  },
  {
   "cell_type": "code",
   "execution_count": 98,
   "id": "cc74df38",
   "metadata": {},
   "outputs": [],
   "source": [
    "Pclass.index =['First Class','Second Class','Third Class']"
   ]
  },
  {
   "cell_type": "code",
   "execution_count": 100,
   "id": "f6b8dadf",
   "metadata": {},
   "outputs": [
    {
     "data": {
      "text/plain": [
       "<Axes: >"
      ]
     },
     "execution_count": 100,
     "metadata": {},
     "output_type": "execute_result"
    },
    {
     "data": {
      "image/png": "[encoded data removed]",
      "text/plain": [
       "<Figure size 640x480 with 1 Axes>"
      ]
     },
     "metadata": {},
     "output_type": "display_data"
    }
   ],
   "source": [
    "Pclass.plot(kind='bar', color=['blue','red'])"
   ]
  },
  {
   "cell_type": "code",
   "execution_count": 104,
   "id": "2176bc7b",
   "metadata": {},
   "outputs": [],
   "source": [
    "Used_data=data[['Pclass','Age','SibSp','Parch','Sex','Survived']]"
   ]
  },
  {
   "cell_type": "code",
   "execution_count": 110,
   "id": "e64ba3a9",
   "metadata": {},
   "outputs": [],
   "source": [
    "x=Used_data.drop(columns=['Survived'])"
   ]
  },
  {
   "cell_type": "code",
   "execution_count": 111,
   "id": "18a48075",
   "metadata": {},
   "outputs": [],
   "source": [
    "y=Used_data['Survived']"
   ]
  },
  {
   "cell_type": "code",
   "execution_count": 143,
   "id": "2062834b",
   "metadata": {},
   "outputs": [],
   "source": [
    "xtrain, xtest, ytrain, ytest = train_test_split(x,y,train_size=0.8,test_size=0.2, random_state=42)"
   ]
  },
  {
   "cell_type": "code",
   "execution_count": 144,
   "id": "a5bfb34a",
   "metadata": {},
   "outputs": [
    {
     "name": "stdout",
     "output_type": "stream",
     "text": [
      "<class 'pandas.core.frame.DataFrame'>\n",
      "Index: 712 entries, 331 to 102\n",
      "Data columns (total 5 columns):\n",
      " #   Column  Non-Null Count  Dtype  \n",
      "---  ------  --------------  -----  \n",
      " 0   Pclass  712 non-null    int64  \n",
      " 1   Age     572 non-null    float64\n",
      " 2   SibSp   712 non-null    int64  \n",
      " 3   Parch   712 non-null    int64  \n",
      " 4   Sex     712 non-null    object \n",
      "dtypes: float64(1), int64(3), object(1)\n",
      "memory usage: 33.4+ KB\n"
     ]
    }
   ],
   "source": [
    "xtrain.info()"
   ]
  },
  {
   "cell_type": "code",
   "execution_count": 145,
   "id": "78e7fc7e",
   "metadata": {},
   "outputs": [
    {
     "data": {
      "text/plain": [
       "(array([30., 14., 10., 14.,  3., 29., 39., 65., 73., 42., 65., 62., 33.,\n",
       "        47., 38., 21., 28., 21., 16., 14., 15.,  7.,  9.,  8.,  4.,  0.,\n",
       "         5.,  1.,  0.,  1.]),\n",
       " array([ 0.42      ,  3.07266667,  5.72533333,  8.378     , 11.03066667,\n",
       "        13.68333333, 16.336     , 18.98866667, 21.64133333, 24.294     ,\n",
       "        26.94666667, 29.59933333, 32.252     , 34.90466667, 37.55733333,\n",
       "        40.21      , 42.86266667, 45.51533333, 48.168     , 50.82066667,\n",
       "        53.47333333, 56.126     , 58.77866667, 61.43133333, 64.084     ,\n",
       "        66.73666667, 69.38933333, 72.042     , 74.69466667, 77.34733333,\n",
       "        80.        ]),\n",
       " <BarContainer object of 30 artists>)"
      ]
     },
     "execution_count": 145,
     "metadata": {},
     "output_type": "execute_result"
    },
    {
     "data": {
      "image/png": "[encoded data removed]",
      "text/plain": [
       "<Figure size 640x480 with 1 Axes>"
      ]
     },
     "metadata": {},
     "output_type": "display_data"
    }
   ],
   "source": [
    "plt.hist(data['Age'],bins=30, color='blue', alpha=0.7)"
   ]
  },
  {
   "cell_type": "code",
   "execution_count": 146,
   "id": "607d8e97",
   "metadata": {},
   "outputs": [],
   "source": [
    "xtrain['Age'] = xtrain.groupby('Sex')['Age'].transform(lambda x: x.fillna(x.median()))\n",
    "\n"
   ]
  },
  {
   "cell_type": "code",
   "execution_count": 147,
   "id": "2c04d279",
   "metadata": {},
   "outputs": [
    {
     "data": {
      "application/vnd.microsoft.datawrangler.viewer.v0+json": {
       "columns": [
        {
         "name": "Sex",
         "rawType": "object",
         "type": "string"
        },
        {
         "name": "Age",
         "rawType": "float64",
         "type": "float"
        }
       ],
       "ref": "8fe685e6-93f4-4cea-b1b1-f0bb77bfe31d",
       "rows": [
        [
         "female",
         "27.0"
        ],
        [
         "male",
         "29.0"
        ]
       ],
       "shape": {
        "columns": 1,
        "rows": 2
       }
      },
      "text/plain": [
       "Sex\n",
       "female    27.0\n",
       "male      29.0\n",
       "Name: Age, dtype: float64"
      ]
     },
     "execution_count": 147,
     "metadata": {},
     "output_type": "execute_result"
    }
   ],
   "source": [
    "sex_age= xtrain.groupby('Sex')['Age'].median()\n",
    "sex_age"
   ]
  },
  {
   "cell_type": "code",
   "execution_count": 148,
   "id": "1ce3115e",
   "metadata": {},
   "outputs": [
    {
     "name": "stderr",
     "output_type": "stream",
     "text": [
      "C:\\Users\\Cyber\\AppData\\Local\\Temp\\ipykernel_16424\\3180534489.py:1: FutureWarning: Series.__getitem__ treating keys as positions is deprecated. In a future version, integer keys will always be treated as labels (consistent with DataFrame behavior). To access a value by position, use `ser.iloc[pos]`\n",
      "  med_age_male =sex_age[1]\n",
      "C:\\Users\\Cyber\\AppData\\Local\\Temp\\ipykernel_16424\\3180534489.py:2: FutureWarning: Series.__getitem__ treating keys as positions is deprecated. In a future version, integer keys will always be treated as labels (consistent with DataFrame behavior). To access a value by position, use `ser.iloc[pos]`\n",
      "  med_age_female=sex_age[0]\n"
     ]
    }
   ],
   "source": [
    "med_age_male =sex_age[1]\n",
    "med_age_female=sex_age[0]"
   ]
  },
  {
   "cell_type": "code",
   "execution_count": 149,
   "id": "c419d0a3",
   "metadata": {},
   "outputs": [
    {
     "name": "stdout",
     "output_type": "stream",
     "text": [
      "<class 'pandas.core.frame.DataFrame'>\n",
      "Index: 712 entries, 331 to 102\n",
      "Data columns (total 5 columns):\n",
      " #   Column  Non-Null Count  Dtype  \n",
      "---  ------  --------------  -----  \n",
      " 0   Pclass  712 non-null    int64  \n",
      " 1   Age     712 non-null    float64\n",
      " 2   SibSp   712 non-null    int64  \n",
      " 3   Parch   712 non-null    int64  \n",
      " 4   Sex     712 non-null    object \n",
      "dtypes: float64(1), int64(3), object(1)\n",
      "memory usage: 33.4+ KB\n"
     ]
    }
   ],
   "source": [
    "xtrain.info()"
   ]
  },
  {
   "cell_type": "code",
   "execution_count": 150,
   "id": "cea372e2",
   "metadata": {},
   "outputs": [
    {
     "name": "stdout",
     "output_type": "stream",
     "text": [
      "<class 'pandas.core.frame.DataFrame'>\n",
      "Index: 179 entries, 709 to 10\n",
      "Data columns (total 5 columns):\n",
      " #   Column  Non-Null Count  Dtype  \n",
      "---  ------  --------------  -----  \n",
      " 0   Pclass  179 non-null    int64  \n",
      " 1   Age     142 non-null    float64\n",
      " 2   SibSp   179 non-null    int64  \n",
      " 3   Parch   179 non-null    int64  \n",
      " 4   Sex     179 non-null    object \n",
      "dtypes: float64(1), int64(3), object(1)\n",
      "memory usage: 8.4+ KB\n"
     ]
    }
   ],
   "source": [
    "xtest.info()"
   ]
  },
  {
   "cell_type": "code",
   "execution_count": 157,
   "id": "517173b1",
   "metadata": {},
   "outputs": [
    {
     "data": {
      "application/vnd.microsoft.datawrangler.viewer.v0+json": {
       "columns": [
        {
         "name": "index",
         "rawType": "int64",
         "type": "integer"
        },
        {
         "name": "Pclass",
         "rawType": "int64",
         "type": "integer"
        },
        {
         "name": "Age",
         "rawType": "float64",
         "type": "float"
        },
        {
         "name": "SibSp",
         "rawType": "int64",
         "type": "integer"
        },
        {
         "name": "Parch",
         "rawType": "int64",
         "type": "integer"
        },
        {
         "name": "Sex",
         "rawType": "object",
         "type": "string"
        }
       ],
       "ref": "830c6cbe-8639-4431-ba8c-b1993e0e668d",
       "rows": [
        [
         "709",
         "3",
         null,
         "1",
         "1",
         "male"
        ],
        [
         "439",
         "2",
         "31.0",
         "0",
         "0",
         "male"
        ],
        [
         "840",
         "3",
         "20.0",
         "0",
         "0",
         "male"
        ],
        [
         "720",
         "2",
         "6.0",
         "0",
         "1",
         "female"
        ],
        [
         "39",
         "3",
         "14.0",
         "1",
         "0",
         "female"
        ],
        [
         "290",
         "1",
         "26.0",
         "0",
         "0",
         "female"
        ],
        [
         "300",
         "3",
         null,
         "0",
         "0",
         "female"
        ],
        [
         "333",
         "3",
         "16.0",
         "2",
         "0",
         "male"
        ],
        [
         "208",
         "3",
         "16.0",
         "0",
         "0",
         "female"
        ],
        [
         "136",
         "1",
         "19.0",
         "0",
         "2",
         "female"
        ],
        [
         "137",
         "1",
         "37.0",
         "1",
         "0",
         "male"
        ],
        [
         "696",
         "3",
         "44.0",
         "0",
         "0",
         "male"
        ],
        [
         "485",
         "3",
         null,
         "3",
         "1",
         "female"
        ],
        [
         "244",
         "3",
         "30.0",
         "0",
         "0",
         "male"
        ],
        [
         "344",
         "2",
         "36.0",
         "0",
         "0",
         "male"
        ],
        [
         "853",
         "1",
         "16.0",
         "0",
         "1",
         "female"
        ],
        [
         "621",
         "1",
         "42.0",
         "1",
         "0",
         "male"
        ],
        [
         "653",
         "3",
         null,
         "0",
         "0",
         "female"
        ],
        [
         "886",
         "2",
         "27.0",
         "0",
         "0",
         "male"
        ],
        [
         "110",
         "1",
         "47.0",
         "0",
         "0",
         "male"
        ],
        [
         "294",
         "3",
         "24.0",
         "0",
         "0",
         "male"
        ],
        [
         "447",
         "1",
         "34.0",
         "0",
         "0",
         "male"
        ],
        [
         "192",
         "3",
         "19.0",
         "1",
         "0",
         "female"
        ],
        [
         "682",
         "3",
         "20.0",
         "0",
         "0",
         "male"
        ],
        [
         "538",
         "3",
         null,
         "0",
         "0",
         "male"
        ],
        [
         "819",
         "3",
         "10.0",
         "3",
         "2",
         "male"
        ],
        [
         "30",
         "1",
         "40.0",
         "0",
         "0",
         "male"
        ],
        [
         "673",
         "2",
         "31.0",
         "0",
         "0",
         "male"
        ],
        [
         "63",
         "3",
         "4.0",
         "3",
         "2",
         "male"
        ],
        [
         "396",
         "3",
         "31.0",
         "0",
         "0",
         "female"
        ],
        [
         "877",
         "3",
         "19.0",
         "0",
         "0",
         "male"
        ],
        [
         "141",
         "3",
         "22.0",
         "0",
         "0",
         "female"
        ],
        [
         "793",
         "1",
         null,
         "0",
         "0",
         "male"
        ],
        [
         "235",
         "3",
         null,
         "0",
         "0",
         "female"
        ],
        [
         "204",
         "3",
         "18.0",
         "0",
         "0",
         "male"
        ],
        [
         "620",
         "3",
         "27.0",
         "1",
         "0",
         "male"
        ],
        [
         "23",
         "1",
         "28.0",
         "0",
         "0",
         "male"
        ],
        [
         "198",
         "3",
         null,
         "0",
         "0",
         "female"
        ],
        [
         "842",
         "1",
         "30.0",
         "0",
         "0",
         "female"
        ],
        [
         "739",
         "3",
         null,
         "0",
         "0",
         "male"
        ],
        [
         "120",
         "2",
         "21.0",
         "2",
         "0",
         "male"
        ],
        [
         "477",
         "3",
         "29.0",
         "1",
         "0",
         "male"
        ],
        [
         "837",
         "3",
         null,
         "0",
         "0",
         "male"
        ],
        [
         "790",
         "3",
         null,
         "0",
         "0",
         "male"
        ],
        [
         "362",
         "3",
         "45.0",
         "0",
         "1",
         "female"
        ],
        [
         "86",
         "3",
         "16.0",
         "1",
         "3",
         "male"
        ],
        [
         "67",
         "3",
         "19.0",
         "0",
         "0",
         "male"
        ],
        [
         "350",
         "3",
         "23.0",
         "0",
         "0",
         "male"
        ],
        [
         "210",
         "3",
         "24.0",
         "0",
         "0",
         "male"
        ],
        [
         "659",
         "1",
         "58.0",
         "0",
         "2",
         "male"
        ]
       ],
       "shape": {
        "columns": 5,
        "rows": 179
       }
      },
      "text/html": [
       "<div>\n",
       "<style scoped>\n",
       "    .dataframe tbody tr th:only-of-type {\n",
       "        vertical-align: middle;\n",
       "    }\n",
       "\n",
       "    .dataframe tbody tr th {\n",
       "        vertical-align: top;\n",
       "    }\n",
       "\n",
       "    .dataframe thead th {\n",
       "        text-align: right;\n",
       "    }\n",
       "</style>\n",
       "<table border=\"1\" class=\"dataframe\">\n",
       "  <thead>\n",
       "    <tr style=\"text-align: right;\">\n",
       "      <th></th>\n",
       "      <th>Pclass</th>\n",
       "      <th>Age</th>\n",
       "      <th>SibSp</th>\n",
       "      <th>Parch</th>\n",
       "      <th>Sex</th>\n",
       "    </tr>\n",
       "  </thead>\n",
       "  <tbody>\n",
       "    <tr>\n",
       "      <th>709</th>\n",
       "      <td>3</td>\n",
       "      <td>NaN</td>\n",
       "      <td>1</td>\n",
       "      <td>1</td>\n",
       "      <td>male</td>\n",
       "    </tr>\n",
       "    <tr>\n",
       "      <th>439</th>\n",
       "      <td>2</td>\n",
       "      <td>31.0</td>\n",
       "      <td>0</td>\n",
       "      <td>0</td>\n",
       "      <td>male</td>\n",
       "    </tr>\n",
       "    <tr>\n",
       "      <th>840</th>\n",
       "      <td>3</td>\n",
       "      <td>20.0</td>\n",
       "      <td>0</td>\n",
       "      <td>0</td>\n",
       "      <td>male</td>\n",
       "    </tr>\n",
       "    <tr>\n",
       "      <th>720</th>\n",
       "      <td>2</td>\n",
       "      <td>6.0</td>\n",
       "      <td>0</td>\n",
       "      <td>1</td>\n",
       "      <td>female</td>\n",
       "    </tr>\n",
       "    <tr>\n",
       "      <th>39</th>\n",
       "      <td>3</td>\n",
       "      <td>14.0</td>\n",
       "      <td>1</td>\n",
       "      <td>0</td>\n",
       "      <td>female</td>\n",
       "    </tr>\n",
       "    <tr>\n",
       "      <th>...</th>\n",
       "      <td>...</td>\n",
       "      <td>...</td>\n",
       "      <td>...</td>\n",
       "      <td>...</td>\n",
       "      <td>...</td>\n",
       "    </tr>\n",
       "    <tr>\n",
       "      <th>433</th>\n",
       "      <td>3</td>\n",
       "      <td>17.0</td>\n",
       "      <td>0</td>\n",
       "      <td>0</td>\n",
       "      <td>male</td>\n",
       "    </tr>\n",
       "    <tr>\n",
       "      <th>773</th>\n",
       "      <td>3</td>\n",
       "      <td>NaN</td>\n",
       "      <td>0</td>\n",
       "      <td>0</td>\n",
       "      <td>male</td>\n",
       "    </tr>\n",
       "    <tr>\n",
       "      <th>25</th>\n",
       "      <td>3</td>\n",
       "      <td>38.0</td>\n",
       "      <td>1</td>\n",
       "      <td>5</td>\n",
       "      <td>female</td>\n",
       "    </tr>\n",
       "    <tr>\n",
       "      <th>84</th>\n",
       "      <td>2</td>\n",
       "      <td>17.0</td>\n",
       "      <td>0</td>\n",
       "      <td>0</td>\n",
       "      <td>female</td>\n",
       "    </tr>\n",
       "    <tr>\n",
       "      <th>10</th>\n",
       "      <td>3</td>\n",
       "      <td>4.0</td>\n",
       "      <td>1</td>\n",
       "      <td>1</td>\n",
       "      <td>female</td>\n",
       "    </tr>\n",
       "  </tbody>\n",
       "</table>\n",
       "<p>179 rows × 5 columns</p>\n",
       "</div>"
      ],
      "text/plain": [
       "     Pclass   Age  SibSp  Parch     Sex\n",
       "709       3   NaN      1      1    male\n",
       "439       2  31.0      0      0    male\n",
       "840       3  20.0      0      0    male\n",
       "720       2   6.0      0      1  female\n",
       "39        3  14.0      1      0  female\n",
       "..      ...   ...    ...    ...     ...\n",
       "433       3  17.0      0      0    male\n",
       "773       3   NaN      0      0    male\n",
       "25        3  38.0      1      5  female\n",
       "84        2  17.0      0      0  female\n",
       "10        3   4.0      1      1  female\n",
       "\n",
       "[179 rows x 5 columns]"
      ]
     },
     "execution_count": 157,
     "metadata": {},
     "output_type": "execute_result"
    }
   ],
   "source": [
    "xtest"
   ]
  },
  {
   "cell_type": "code",
   "execution_count": 158,
   "id": "9726b2d9",
   "metadata": {},
   "outputs": [],
   "source": [
    "for index, row in xtest.iterrows():\n",
    "    if pd.isnull(row['Age']) and row['Sex']=='male':\n",
    "        xtest.at[index, 'Age'] = med_age_male\n",
    "    elif pd.isnull(row['Age']) and row['Sex']=='female':\n",
    "        xtest.at[index, 'Age'] = med_age_female"
   ]
  },
  {
   "cell_type": "code",
   "execution_count": 159,
   "id": "0233e925",
   "metadata": {},
   "outputs": [
    {
     "data": {
      "application/vnd.microsoft.datawrangler.viewer.v0+json": {
       "columns": [
        {
         "name": "index",
         "rawType": "int64",
         "type": "integer"
        },
        {
         "name": "Pclass",
         "rawType": "int64",
         "type": "integer"
        },
        {
         "name": "Age",
         "rawType": "float64",
         "type": "float"
        },
        {
         "name": "SibSp",
         "rawType": "int64",
         "type": "integer"
        },
        {
         "name": "Parch",
         "rawType": "int64",
         "type": "integer"
        },
        {
         "name": "Sex",
         "rawType": "object",
         "type": "string"
        }
       ],
       "ref": "42cca600-951c-4af4-9751-ce39cf51f941",
       "rows": [
        [
         "709",
         "3",
         "29.0",
         "1",
         "1",
         "male"
        ],
        [
         "439",
         "2",
         "31.0",
         "0",
         "0",
         "male"
        ],
        [
         "840",
         "3",
         "20.0",
         "0",
         "0",
         "male"
        ],
        [
         "720",
         "2",
         "6.0",
         "0",
         "1",
         "female"
        ],
        [
         "39",
         "3",
         "14.0",
         "1",
         "0",
         "female"
        ],
        [
         "290",
         "1",
         "26.0",
         "0",
         "0",
         "female"
        ],
        [
         "300",
         "3",
         "27.0",
         "0",
         "0",
         "female"
        ],
        [
         "333",
         "3",
         "16.0",
         "2",
         "0",
         "male"
        ],
        [
         "208",
         "3",
         "16.0",
         "0",
         "0",
         "female"
        ],
        [
         "136",
         "1",
         "19.0",
         "0",
         "2",
         "female"
        ],
        [
         "137",
         "1",
         "37.0",
         "1",
         "0",
         "male"
        ],
        [
         "696",
         "3",
         "44.0",
         "0",
         "0",
         "male"
        ],
        [
         "485",
         "3",
         "27.0",
         "3",
         "1",
         "female"
        ],
        [
         "244",
         "3",
         "30.0",
         "0",
         "0",
         "male"
        ],
        [
         "344",
         "2",
         "36.0",
         "0",
         "0",
         "male"
        ],
        [
         "853",
         "1",
         "16.0",
         "0",
         "1",
         "female"
        ],
        [
         "621",
         "1",
         "42.0",
         "1",
         "0",
         "male"
        ],
        [
         "653",
         "3",
         "27.0",
         "0",
         "0",
         "female"
        ],
        [
         "886",
         "2",
         "27.0",
         "0",
         "0",
         "male"
        ],
        [
         "110",
         "1",
         "47.0",
         "0",
         "0",
         "male"
        ],
        [
         "294",
         "3",
         "24.0",
         "0",
         "0",
         "male"
        ],
        [
         "447",
         "1",
         "34.0",
         "0",
         "0",
         "male"
        ],
        [
         "192",
         "3",
         "19.0",
         "1",
         "0",
         "female"
        ],
        [
         "682",
         "3",
         "20.0",
         "0",
         "0",
         "male"
        ],
        [
         "538",
         "3",
         "29.0",
         "0",
         "0",
         "male"
        ],
        [
         "819",
         "3",
         "10.0",
         "3",
         "2",
         "male"
        ],
        [
         "30",
         "1",
         "40.0",
         "0",
         "0",
         "male"
        ],
        [
         "673",
         "2",
         "31.0",
         "0",
         "0",
         "male"
        ],
        [
         "63",
         "3",
         "4.0",
         "3",
         "2",
         "male"
        ],
        [
         "396",
         "3",
         "31.0",
         "0",
         "0",
         "female"
        ],
        [
         "877",
         "3",
         "19.0",
         "0",
         "0",
         "male"
        ],
        [
         "141",
         "3",
         "22.0",
         "0",
         "0",
         "female"
        ],
        [
         "793",
         "1",
         "29.0",
         "0",
         "0",
         "male"
        ],
        [
         "235",
         "3",
         "27.0",
         "0",
         "0",
         "female"
        ],
        [
         "204",
         "3",
         "18.0",
         "0",
         "0",
         "male"
        ],
        [
         "620",
         "3",
         "27.0",
         "1",
         "0",
         "male"
        ],
        [
         "23",
         "1",
         "28.0",
         "0",
         "0",
         "male"
        ],
        [
         "198",
         "3",
         "27.0",
         "0",
         "0",
         "female"
        ],
        [
         "842",
         "1",
         "30.0",
         "0",
         "0",
         "female"
        ],
        [
         "739",
         "3",
         "29.0",
         "0",
         "0",
         "male"
        ],
        [
         "120",
         "2",
         "21.0",
         "2",
         "0",
         "male"
        ],
        [
         "477",
         "3",
         "29.0",
         "1",
         "0",
         "male"
        ],
        [
         "837",
         "3",
         "29.0",
         "0",
         "0",
         "male"
        ],
        [
         "790",
         "3",
         "29.0",
         "0",
         "0",
         "male"
        ],
        [
         "362",
         "3",
         "45.0",
         "0",
         "1",
         "female"
        ],
        [
         "86",
         "3",
         "16.0",
         "1",
         "3",
         "male"
        ],
        [
         "67",
         "3",
         "19.0",
         "0",
         "0",
         "male"
        ],
        [
         "350",
         "3",
         "23.0",
         "0",
         "0",
         "male"
        ],
        [
         "210",
         "3",
         "24.0",
         "0",
         "0",
         "male"
        ],
        [
         "659",
         "1",
         "58.0",
         "0",
         "2",
         "male"
        ]
       ],
       "shape": {
        "columns": 5,
        "rows": 179
       }
      },
      "text/html": [
       "<div>\n",
       "<style scoped>\n",
       "    .dataframe tbody tr th:only-of-type {\n",
       "        vertical-align: middle;\n",
       "    }\n",
       "\n",
       "    .dataframe tbody tr th {\n",
       "        vertical-align: top;\n",
       "    }\n",
       "\n",
       "    .dataframe thead th {\n",
       "        text-align: right;\n",
       "    }\n",
       "</style>\n",
       "<table border=\"1\" class=\"dataframe\">\n",
       "  <thead>\n",
       "    <tr style=\"text-align: right;\">\n",
       "      <th></th>\n",
       "      <th>Pclass</th>\n",
       "      <th>Age</th>\n",
       "      <th>SibSp</th>\n",
       "      <th>Parch</th>\n",
       "      <th>Sex</th>\n",
       "    </tr>\n",
       "  </thead>\n",
       "  <tbody>\n",
       "    <tr>\n",
       "      <th>709</th>\n",
       "      <td>3</td>\n",
       "      <td>29.0</td>\n",
       "      <td>1</td>\n",
       "      <td>1</td>\n",
       "      <td>male</td>\n",
       "    </tr>\n",
       "    <tr>\n",
       "      <th>439</th>\n",
       "      <td>2</td>\n",
       "      <td>31.0</td>\n",
       "      <td>0</td>\n",
       "      <td>0</td>\n",
       "      <td>male</td>\n",
       "    </tr>\n",
       "    <tr>\n",
       "      <th>840</th>\n",
       "      <td>3</td>\n",
       "      <td>20.0</td>\n",
       "      <td>0</td>\n",
       "      <td>0</td>\n",
       "      <td>male</td>\n",
       "    </tr>\n",
       "    <tr>\n",
       "      <th>720</th>\n",
       "      <td>2</td>\n",
       "      <td>6.0</td>\n",
       "      <td>0</td>\n",
       "      <td>1</td>\n",
       "      <td>female</td>\n",
       "    </tr>\n",
       "    <tr>\n",
       "      <th>39</th>\n",
       "      <td>3</td>\n",
       "      <td>14.0</td>\n",
       "      <td>1</td>\n",
       "      <td>0</td>\n",
       "      <td>female</td>\n",
       "    </tr>\n",
       "    <tr>\n",
       "      <th>...</th>\n",
       "      <td>...</td>\n",
       "      <td>...</td>\n",
       "      <td>...</td>\n",
       "      <td>...</td>\n",
       "      <td>...</td>\n",
       "    </tr>\n",
       "    <tr>\n",
       "      <th>433</th>\n",
       "      <td>3</td>\n",
       "      <td>17.0</td>\n",
       "      <td>0</td>\n",
       "      <td>0</td>\n",
       "      <td>male</td>\n",
       "    </tr>\n",
       "    <tr>\n",
       "      <th>773</th>\n",
       "      <td>3</td>\n",
       "      <td>29.0</td>\n",
       "      <td>0</td>\n",
       "      <td>0</td>\n",
       "      <td>male</td>\n",
       "    </tr>\n",
       "    <tr>\n",
       "      <th>25</th>\n",
       "      <td>3</td>\n",
       "      <td>38.0</td>\n",
       "      <td>1</td>\n",
       "      <td>5</td>\n",
       "      <td>female</td>\n",
       "    </tr>\n",
       "    <tr>\n",
       "      <th>84</th>\n",
       "      <td>2</td>\n",
       "      <td>17.0</td>\n",
       "      <td>0</td>\n",
       "      <td>0</td>\n",
       "      <td>female</td>\n",
       "    </tr>\n",
       "    <tr>\n",
       "      <th>10</th>\n",
       "      <td>3</td>\n",
       "      <td>4.0</td>\n",
       "      <td>1</td>\n",
       "      <td>1</td>\n",
       "      <td>female</td>\n",
       "    </tr>\n",
       "  </tbody>\n",
       "</table>\n",
       "<p>179 rows × 5 columns</p>\n",
       "</div>"
      ],
      "text/plain": [
       "     Pclass   Age  SibSp  Parch     Sex\n",
       "709       3  29.0      1      1    male\n",
       "439       2  31.0      0      0    male\n",
       "840       3  20.0      0      0    male\n",
       "720       2   6.0      0      1  female\n",
       "39        3  14.0      1      0  female\n",
       "..      ...   ...    ...    ...     ...\n",
       "433       3  17.0      0      0    male\n",
       "773       3  29.0      0      0    male\n",
       "25        3  38.0      1      5  female\n",
       "84        2  17.0      0      0  female\n",
       "10        3   4.0      1      1  female\n",
       "\n",
       "[179 rows x 5 columns]"
      ]
     },
     "execution_count": 159,
     "metadata": {},
     "output_type": "execute_result"
    }
   ],
   "source": [
    "xtest"
   ]
  },
  {
   "cell_type": "code",
   "execution_count": 165,
   "id": "84501870",
   "metadata": {},
   "outputs": [
    {
     "data": {
      "application/vnd.microsoft.datawrangler.viewer.v0+json": {
       "columns": [
        {
         "name": "index",
         "rawType": "int64",
         "type": "integer"
        },
        {
         "name": "Pclass",
         "rawType": "int64",
         "type": "integer"
        },
        {
         "name": "Age",
         "rawType": "float64",
         "type": "float"
        },
        {
         "name": "SibSp",
         "rawType": "int64",
         "type": "integer"
        },
        {
         "name": "Parch",
         "rawType": "int64",
         "type": "integer"
        },
        {
         "name": "Sex",
         "rawType": "float64",
         "type": "float"
        }
       ],
       "ref": "7518a237-ca5a-42bd-aa65-3b4be72a8d7f",
       "rows": [
        [
         "331",
         "1",
         "45.5",
         "0",
         "0",
         "1.0"
        ],
        [
         "733",
         "2",
         "23.0",
         "0",
         "0",
         "1.0"
        ],
        [
         "382",
         "3",
         "32.0",
         "0",
         "0",
         "1.0"
        ],
        [
         "704",
         "3",
         "26.0",
         "1",
         "0",
         "1.0"
        ],
        [
         "813",
         "3",
         "6.0",
         "4",
         "2",
         "0.0"
        ],
        [
         "118",
         "1",
         "24.0",
         "0",
         "1",
         "1.0"
        ],
        [
         "536",
         "1",
         "45.0",
         "0",
         "0",
         "1.0"
        ],
        [
         "361",
         "2",
         "29.0",
         "1",
         "0",
         "1.0"
        ],
        [
         "29",
         "3",
         "29.0",
         "0",
         "0",
         "1.0"
        ],
        [
         "55",
         "1",
         "29.0",
         "0",
         "0",
         "1.0"
        ],
        [
         "865",
         "2",
         "42.0",
         "0",
         "0",
         "0.0"
        ],
        [
         "595",
         "3",
         "36.0",
         "1",
         "1",
         "1.0"
        ],
        [
         "239",
         "2",
         "33.0",
         "0",
         "0",
         "1.0"
        ],
        [
         "721",
         "3",
         "17.0",
         "1",
         "0",
         "1.0"
        ],
        [
         "81",
         "3",
         "29.0",
         "0",
         "0",
         "1.0"
        ],
        [
         "259",
         "2",
         "50.0",
         "0",
         "1",
         "0.0"
        ],
        [
         "486",
         "1",
         "35.0",
         "1",
         "0",
         "0.0"
        ],
        [
         "716",
         "1",
         "38.0",
         "0",
         "0",
         "0.0"
        ],
        [
         "800",
         "2",
         "34.0",
         "0",
         "0",
         "1.0"
        ],
        [
         "781",
         "1",
         "17.0",
         "1",
         "0",
         "0.0"
        ],
        [
         "542",
         "3",
         "11.0",
         "4",
         "2",
         "0.0"
        ],
        [
         "326",
         "3",
         "61.0",
         "0",
         "0",
         "1.0"
        ],
        [
         "534",
         "3",
         "30.0",
         "0",
         "0",
         "0.0"
        ],
        [
         "535",
         "2",
         "7.0",
         "0",
         "2",
         "0.0"
        ],
        [
         "483",
         "3",
         "63.0",
         "0",
         "0",
         "0.0"
        ],
        [
         "762",
         "3",
         "20.0",
         "0",
         "0",
         "1.0"
        ],
        [
         "533",
         "3",
         "27.0",
         "0",
         "2",
         "0.0"
        ],
        [
         "713",
         "3",
         "29.0",
         "0",
         "0",
         "1.0"
        ],
        [
         "390",
         "1",
         "36.0",
         "1",
         "2",
         "1.0"
        ],
        [
         "495",
         "3",
         "29.0",
         "0",
         "0",
         "1.0"
        ],
        [
         "482",
         "3",
         "50.0",
         "0",
         "0",
         "1.0"
        ],
        [
         "377",
         "1",
         "27.0",
         "0",
         "2",
         "1.0"
        ],
        [
         "365",
         "3",
         "30.0",
         "0",
         "0",
         "1.0"
        ],
        [
         "412",
         "1",
         "33.0",
         "1",
         "0",
         "0.0"
        ],
        [
         "468",
         "3",
         "29.0",
         "0",
         "0",
         "1.0"
        ],
        [
         "409",
         "3",
         "27.0",
         "3",
         "1",
         "0.0"
        ],
        [
         "7",
         "3",
         "2.0",
         "3",
         "1",
         "1.0"
        ],
        [
         "580",
         "2",
         "25.0",
         "1",
         "1",
         "0.0"
        ],
        [
         "155",
         "1",
         "51.0",
         "0",
         "1",
         "1.0"
        ],
        [
         "880",
         "2",
         "25.0",
         "0",
         "1",
         "0.0"
        ],
        [
         "425",
         "3",
         "29.0",
         "0",
         "0",
         "1.0"
        ],
        [
         "101",
         "3",
         "29.0",
         "0",
         "0",
         "1.0"
        ],
        [
         "199",
         "2",
         "24.0",
         "0",
         "0",
         "0.0"
        ],
        [
         "424",
         "3",
         "18.0",
         "1",
         "1",
         "1.0"
        ],
        [
         "298",
         "1",
         "29.0",
         "0",
         "0",
         "1.0"
        ],
        [
         "884",
         "3",
         "25.0",
         "0",
         "0",
         "1.0"
        ],
        [
         "247",
         "2",
         "24.0",
         "0",
         "2",
         "0.0"
        ],
        [
         "478",
         "3",
         "22.0",
         "0",
         "0",
         "1.0"
        ],
        [
         "305",
         "1",
         "0.92",
         "1",
         "2",
         "1.0"
        ],
        [
         "316",
         "2",
         "24.0",
         "1",
         "0",
         "0.0"
        ]
       ],
       "shape": {
        "columns": 5,
        "rows": 712
       }
      },
      "text/html": [
       "<div>\n",
       "<style scoped>\n",
       "    .dataframe tbody tr th:only-of-type {\n",
       "        vertical-align: middle;\n",
       "    }\n",
       "\n",
       "    .dataframe tbody tr th {\n",
       "        vertical-align: top;\n",
       "    }\n",
       "\n",
       "    .dataframe thead th {\n",
       "        text-align: right;\n",
       "    }\n",
       "</style>\n",
       "<table border=\"1\" class=\"dataframe\">\n",
       "  <thead>\n",
       "    <tr style=\"text-align: right;\">\n",
       "      <th></th>\n",
       "      <th>Pclass</th>\n",
       "      <th>Age</th>\n",
       "      <th>SibSp</th>\n",
       "      <th>Parch</th>\n",
       "      <th>Sex</th>\n",
       "    </tr>\n",
       "  </thead>\n",
       "  <tbody>\n",
       "    <tr>\n",
       "      <th>331</th>\n",
       "      <td>1</td>\n",
       "      <td>45.5</td>\n",
       "      <td>0</td>\n",
       "      <td>0</td>\n",
       "      <td>1.0</td>\n",
       "    </tr>\n",
       "    <tr>\n",
       "      <th>733</th>\n",
       "      <td>2</td>\n",
       "      <td>23.0</td>\n",
       "      <td>0</td>\n",
       "      <td>0</td>\n",
       "      <td>1.0</td>\n",
       "    </tr>\n",
       "    <tr>\n",
       "      <th>382</th>\n",
       "      <td>3</td>\n",
       "      <td>32.0</td>\n",
       "      <td>0</td>\n",
       "      <td>0</td>\n",
       "      <td>1.0</td>\n",
       "    </tr>\n",
       "    <tr>\n",
       "      <th>704</th>\n",
       "      <td>3</td>\n",
       "      <td>26.0</td>\n",
       "      <td>1</td>\n",
       "      <td>0</td>\n",
       "      <td>1.0</td>\n",
       "    </tr>\n",
       "    <tr>\n",
       "      <th>813</th>\n",
       "      <td>3</td>\n",
       "      <td>6.0</td>\n",
       "      <td>4</td>\n",
       "      <td>2</td>\n",
       "      <td>0.0</td>\n",
       "    </tr>\n",
       "    <tr>\n",
       "      <th>...</th>\n",
       "      <td>...</td>\n",
       "      <td>...</td>\n",
       "      <td>...</td>\n",
       "      <td>...</td>\n",
       "      <td>...</td>\n",
       "    </tr>\n",
       "    <tr>\n",
       "      <th>106</th>\n",
       "      <td>3</td>\n",
       "      <td>21.0</td>\n",
       "      <td>0</td>\n",
       "      <td>0</td>\n",
       "      <td>0.0</td>\n",
       "    </tr>\n",
       "    <tr>\n",
       "      <th>270</th>\n",
       "      <td>1</td>\n",
       "      <td>29.0</td>\n",
       "      <td>0</td>\n",
       "      <td>0</td>\n",
       "      <td>1.0</td>\n",
       "    </tr>\n",
       "    <tr>\n",
       "      <th>860</th>\n",
       "      <td>3</td>\n",
       "      <td>41.0</td>\n",
       "      <td>2</td>\n",
       "      <td>0</td>\n",
       "      <td>1.0</td>\n",
       "    </tr>\n",
       "    <tr>\n",
       "      <th>435</th>\n",
       "      <td>1</td>\n",
       "      <td>14.0</td>\n",
       "      <td>1</td>\n",
       "      <td>2</td>\n",
       "      <td>0.0</td>\n",
       "    </tr>\n",
       "    <tr>\n",
       "      <th>102</th>\n",
       "      <td>1</td>\n",
       "      <td>21.0</td>\n",
       "      <td>0</td>\n",
       "      <td>1</td>\n",
       "      <td>1.0</td>\n",
       "    </tr>\n",
       "  </tbody>\n",
       "</table>\n",
       "<p>712 rows × 5 columns</p>\n",
       "</div>"
      ],
      "text/plain": [
       "     Pclass   Age  SibSp  Parch  Sex\n",
       "331       1  45.5      0      0  1.0\n",
       "733       2  23.0      0      0  1.0\n",
       "382       3  32.0      0      0  1.0\n",
       "704       3  26.0      1      0  1.0\n",
       "813       3   6.0      4      2  0.0\n",
       "..      ...   ...    ...    ...  ...\n",
       "106       3  21.0      0      0  0.0\n",
       "270       1  29.0      0      0  1.0\n",
       "860       3  41.0      2      0  1.0\n",
       "435       1  14.0      1      2  0.0\n",
       "102       1  21.0      0      1  1.0\n",
       "\n",
       "[712 rows x 5 columns]"
      ]
     },
     "execution_count": 165,
     "metadata": {},
     "output_type": "execute_result"
    }
   ],
   "source": [
    "xtrain"
   ]
  },
  {
   "cell_type": "code",
   "execution_count": 164,
   "id": "56f5ed60",
   "metadata": {},
   "outputs": [],
   "source": [
    "encoder=OneHotEncoder(sparse_output=False, drop='first')\n",
    "encoded_sex_train=encoder.fit_transform(xtrain[['Sex']])\n",
    "xtrain['Sex']=encoded_sex_train\n"
   ]
  },
  {
   "cell_type": "code",
   "execution_count": 168,
   "id": "a973a8a2",
   "metadata": {},
   "outputs": [
    {
     "data": {
      "application/vnd.microsoft.datawrangler.viewer.v0+json": {
       "columns": [
        {
         "name": "index",
         "rawType": "int64",
         "type": "integer"
        },
        {
         "name": "Pclass",
         "rawType": "int64",
         "type": "integer"
        },
        {
         "name": "Age",
         "rawType": "float64",
         "type": "float"
        },
        {
         "name": "SibSp",
         "rawType": "int64",
         "type": "integer"
        },
        {
         "name": "Parch",
         "rawType": "int64",
         "type": "integer"
        },
        {
         "name": "Sex",
         "rawType": "float64",
         "type": "float"
        }
       ],
       "ref": "fe8caf16-609d-4f0b-9a5e-349049f76588",
       "rows": [
        [
         "709",
         "3",
         "29.0",
         "1",
         "1",
         "1.0"
        ],
        [
         "439",
         "2",
         "31.0",
         "0",
         "0",
         "1.0"
        ],
        [
         "840",
         "3",
         "20.0",
         "0",
         "0",
         "1.0"
        ],
        [
         "720",
         "2",
         "6.0",
         "0",
         "1",
         "0.0"
        ],
        [
         "39",
         "3",
         "14.0",
         "1",
         "0",
         "0.0"
        ],
        [
         "290",
         "1",
         "26.0",
         "0",
         "0",
         "0.0"
        ],
        [
         "300",
         "3",
         "27.0",
         "0",
         "0",
         "0.0"
        ],
        [
         "333",
         "3",
         "16.0",
         "2",
         "0",
         "1.0"
        ],
        [
         "208",
         "3",
         "16.0",
         "0",
         "0",
         "0.0"
        ],
        [
         "136",
         "1",
         "19.0",
         "0",
         "2",
         "0.0"
        ],
        [
         "137",
         "1",
         "37.0",
         "1",
         "0",
         "1.0"
        ],
        [
         "696",
         "3",
         "44.0",
         "0",
         "0",
         "1.0"
        ],
        [
         "485",
         "3",
         "27.0",
         "3",
         "1",
         "0.0"
        ],
        [
         "244",
         "3",
         "30.0",
         "0",
         "0",
         "1.0"
        ],
        [
         "344",
         "2",
         "36.0",
         "0",
         "0",
         "1.0"
        ],
        [
         "853",
         "1",
         "16.0",
         "0",
         "1",
         "0.0"
        ],
        [
         "621",
         "1",
         "42.0",
         "1",
         "0",
         "1.0"
        ],
        [
         "653",
         "3",
         "27.0",
         "0",
         "0",
         "0.0"
        ],
        [
         "886",
         "2",
         "27.0",
         "0",
         "0",
         "1.0"
        ],
        [
         "110",
         "1",
         "47.0",
         "0",
         "0",
         "1.0"
        ],
        [
         "294",
         "3",
         "24.0",
         "0",
         "0",
         "1.0"
        ],
        [
         "447",
         "1",
         "34.0",
         "0",
         "0",
         "1.0"
        ],
        [
         "192",
         "3",
         "19.0",
         "1",
         "0",
         "0.0"
        ],
        [
         "682",
         "3",
         "20.0",
         "0",
         "0",
         "1.0"
        ],
        [
         "538",
         "3",
         "29.0",
         "0",
         "0",
         "1.0"
        ],
        [
         "819",
         "3",
         "10.0",
         "3",
         "2",
         "1.0"
        ],
        [
         "30",
         "1",
         "40.0",
         "0",
         "0",
         "1.0"
        ],
        [
         "673",
         "2",
         "31.0",
         "0",
         "0",
         "1.0"
        ],
        [
         "63",
         "3",
         "4.0",
         "3",
         "2",
         "1.0"
        ],
        [
         "396",
         "3",
         "31.0",
         "0",
         "0",
         "0.0"
        ],
        [
         "877",
         "3",
         "19.0",
         "0",
         "0",
         "1.0"
        ],
        [
         "141",
         "3",
         "22.0",
         "0",
         "0",
         "0.0"
        ],
        [
         "793",
         "1",
         "29.0",
         "0",
         "0",
         "1.0"
        ],
        [
         "235",
         "3",
         "27.0",
         "0",
         "0",
         "0.0"
        ],
        [
         "204",
         "3",
         "18.0",
         "0",
         "0",
         "1.0"
        ],
        [
         "620",
         "3",
         "27.0",
         "1",
         "0",
         "1.0"
        ],
        [
         "23",
         "1",
         "28.0",
         "0",
         "0",
         "1.0"
        ],
        [
         "198",
         "3",
         "27.0",
         "0",
         "0",
         "0.0"
        ],
        [
         "842",
         "1",
         "30.0",
         "0",
         "0",
         "0.0"
        ],
        [
         "739",
         "3",
         "29.0",
         "0",
         "0",
         "1.0"
        ],
        [
         "120",
         "2",
         "21.0",
         "2",
         "0",
         "1.0"
        ],
        [
         "477",
         "3",
         "29.0",
         "1",
         "0",
         "1.0"
        ],
        [
         "837",
         "3",
         "29.0",
         "0",
         "0",
         "1.0"
        ],
        [
         "790",
         "3",
         "29.0",
         "0",
         "0",
         "1.0"
        ],
        [
         "362",
         "3",
         "45.0",
         "0",
         "1",
         "0.0"
        ],
        [
         "86",
         "3",
         "16.0",
         "1",
         "3",
         "1.0"
        ],
        [
         "67",
         "3",
         "19.0",
         "0",
         "0",
         "1.0"
        ],
        [
         "350",
         "3",
         "23.0",
         "0",
         "0",
         "1.0"
        ],
        [
         "210",
         "3",
         "24.0",
         "0",
         "0",
         "1.0"
        ],
        [
         "659",
         "1",
         "58.0",
         "0",
         "2",
         "1.0"
        ]
       ],
       "shape": {
        "columns": 5,
        "rows": 179
       }
      },
      "text/html": [
       "<div>\n",
       "<style scoped>\n",
       "    .dataframe tbody tr th:only-of-type {\n",
       "        vertical-align: middle;\n",
       "    }\n",
       "\n",
       "    .dataframe tbody tr th {\n",
       "        vertical-align: top;\n",
       "    }\n",
       "\n",
       "    .dataframe thead th {\n",
       "        text-align: right;\n",
       "    }\n",
       "</style>\n",
       "<table border=\"1\" class=\"dataframe\">\n",
       "  <thead>\n",
       "    <tr style=\"text-align: right;\">\n",
       "      <th></th>\n",
       "      <th>Pclass</th>\n",
       "      <th>Age</th>\n",
       "      <th>SibSp</th>\n",
       "      <th>Parch</th>\n",
       "      <th>Sex</th>\n",
       "    </tr>\n",
       "  </thead>\n",
       "  <tbody>\n",
       "    <tr>\n",
       "      <th>709</th>\n",
       "      <td>3</td>\n",
       "      <td>29.0</td>\n",
       "      <td>1</td>\n",
       "      <td>1</td>\n",
       "      <td>1.0</td>\n",
       "    </tr>\n",
       "    <tr>\n",
       "      <th>439</th>\n",
       "      <td>2</td>\n",
       "      <td>31.0</td>\n",
       "      <td>0</td>\n",
       "      <td>0</td>\n",
       "      <td>1.0</td>\n",
       "    </tr>\n",
       "    <tr>\n",
       "      <th>840</th>\n",
       "      <td>3</td>\n",
       "      <td>20.0</td>\n",
       "      <td>0</td>\n",
       "      <td>0</td>\n",
       "      <td>1.0</td>\n",
       "    </tr>\n",
       "    <tr>\n",
       "      <th>720</th>\n",
       "      <td>2</td>\n",
       "      <td>6.0</td>\n",
       "      <td>0</td>\n",
       "      <td>1</td>\n",
       "      <td>0.0</td>\n",
       "    </tr>\n",
       "    <tr>\n",
       "      <th>39</th>\n",
       "      <td>3</td>\n",
       "      <td>14.0</td>\n",
       "      <td>1</td>\n",
       "      <td>0</td>\n",
       "      <td>0.0</td>\n",
       "    </tr>\n",
       "    <tr>\n",
       "      <th>...</th>\n",
       "      <td>...</td>\n",
       "      <td>...</td>\n",
       "      <td>...</td>\n",
       "      <td>...</td>\n",
       "      <td>...</td>\n",
       "    </tr>\n",
       "    <tr>\n",
       "      <th>433</th>\n",
       "      <td>3</td>\n",
       "      <td>17.0</td>\n",
       "      <td>0</td>\n",
       "      <td>0</td>\n",
       "      <td>1.0</td>\n",
       "    </tr>\n",
       "    <tr>\n",
       "      <th>773</th>\n",
       "      <td>3</td>\n",
       "      <td>29.0</td>\n",
       "      <td>0</td>\n",
       "      <td>0</td>\n",
       "      <td>1.0</td>\n",
       "    </tr>\n",
       "    <tr>\n",
       "      <th>25</th>\n",
       "      <td>3</td>\n",
       "      <td>38.0</td>\n",
       "      <td>1</td>\n",
       "      <td>5</td>\n",
       "      <td>0.0</td>\n",
       "    </tr>\n",
       "    <tr>\n",
       "      <th>84</th>\n",
       "      <td>2</td>\n",
       "      <td>17.0</td>\n",
       "      <td>0</td>\n",
       "      <td>0</td>\n",
       "      <td>0.0</td>\n",
       "    </tr>\n",
       "    <tr>\n",
       "      <th>10</th>\n",
       "      <td>3</td>\n",
       "      <td>4.0</td>\n",
       "      <td>1</td>\n",
       "      <td>1</td>\n",
       "      <td>0.0</td>\n",
       "    </tr>\n",
       "  </tbody>\n",
       "</table>\n",
       "<p>179 rows × 5 columns</p>\n",
       "</div>"
      ],
      "text/plain": [
       "     Pclass   Age  SibSp  Parch  Sex\n",
       "709       3  29.0      1      1  1.0\n",
       "439       2  31.0      0      0  1.0\n",
       "840       3  20.0      0      0  1.0\n",
       "720       2   6.0      0      1  0.0\n",
       "39        3  14.0      1      0  0.0\n",
       "..      ...   ...    ...    ...  ...\n",
       "433       3  17.0      0      0  1.0\n",
       "773       3  29.0      0      0  1.0\n",
       "25        3  38.0      1      5  0.0\n",
       "84        2  17.0      0      0  0.0\n",
       "10        3   4.0      1      1  0.0\n",
       "\n",
       "[179 rows x 5 columns]"
      ]
     },
     "execution_count": 168,
     "metadata": {},
     "output_type": "execute_result"
    }
   ],
   "source": [
    "encoded_sex_test=encoder.transform(xtest[['Sex']])\n",
    "xtest['Sex']=encoded_sex_test\n",
    "xtest"
   ]
  },
  {
   "cell_type": "code",
   "execution_count": 170,
   "id": "66b4c9bc",
   "metadata": {},
   "outputs": [
    {
     "data": {
      "text/plain": [
       "<Axes: >"
      ]
     },
     "execution_count": 170,
     "metadata": {},
     "output_type": "execute_result"
    },
    {
     "data": {
      "image/png": "[encoded data removed]",
      "text/plain": [
       "<Figure size 640x480 with 2 Axes>"
      ]
     },
     "metadata": {},
     "output_type": "display_data"
    }
   ],
   "source": [
    "X_full = pd.concat([xtrain, xtest], axis=0)\n",
    "Y_full = pd.concat([ytrain, ytest], axis=0)\n",
    "full=X_full\n",
    "full['Survived'] = Y_full.values\n",
    "corr=full.corr() \n",
    "sns.heatmap(corr, annot=True, cmap='coolwarm', fmt='.2f')\n"
   ]
  },
  {
   "cell_type": "code",
   "execution_count": 171,
   "id": "2278c46a",
   "metadata": {},
   "outputs": [
    {
     "name": "stdout",
     "output_type": "stream",
     "text": [
      "Accuracy: 0.82\n"
     ]
    }
   ],
   "source": [
    "model = LogisticRegression()\n",
    "model.fit(xtrain, ytrain)\n",
    "ypred = model.predict(xtest)\n",
    "accuracy = accuracy_score(ytest, ypred)\n",
    "print(f\"Accuracy: {accuracy:.2f}\")"
   ]
  }
 ],
 "metadata": {
  "kernelspec": {
   "display_name": "base",
   "language": "python",
   "name": "python3"
  },
  "language_info": {
   "codemirror_mode": {
    "name": "ipython",
    "version": 3
   },
   "file_extension": ".py",
   "mimetype": "text/x-python",
   "name": "python",
   "nbconvert_exporter": "python",
   "pygments_lexer": "ipython3",
   "version": "3.12.7"
  }
 },
 "nbformat": 4,
 "nbformat_minor": 5
}
